{
  "nbformat": 4,
  "nbformat_minor": 0,
  "metadata": {
    "colab": {
      "name": "TensorFlow.ipynb",
      "provenance": [],
      "collapsed_sections": []
    },
    "kernelspec": {
      "name": "python3",
      "display_name": "Python 3"
    },
    "language_info": {
      "name": "python"
    }
  },
  "cells": [
    {
      "cell_type": "markdown",
      "source": [
        "***Using Tensorflow like Numpy***"
      ],
      "metadata": {
        "id": "SuV-R7r1G_mg"
      }
    },
    {
      "cell_type": "code",
      "source": [
        "#importing the tensorflow library\n",
        "import tensorflow as tf"
      ],
      "metadata": {
        "id": "J9AmVPWwHUX8"
      },
      "execution_count": null,
      "outputs": []
    },
    {
      "cell_type": "code",
      "execution_count": null,
      "metadata": {
        "colab": {
          "base_uri": "https://localhost:8080/"
        },
        "id": "Tb9HmxmlFrZh",
        "outputId": "0a6faae5-c635-407b-e612-814b7c73605d"
      },
      "outputs": [
        {
          "output_type": "execute_result",
          "data": {
            "text/plain": [
              "<tf.Tensor: shape=(2, 3), dtype=float32, numpy=\n",
              "array([[1., 2., 3.],\n",
              "       [4., 5., 6.]], dtype=float32)>"
            ]
          },
          "metadata": {},
          "execution_count": 3
        }
      ],
      "source": [
        "# creating a tensor\n",
        "tf.constant([[1., 2., 3.],[4., 5., 6.]])"
      ]
    },
    {
      "cell_type": "code",
      "source": [
        "#to get shape and dtype\n",
        "t = tf.constant([[1,2,3],[4,5,6]])\n",
        "print(t.shape)\n",
        "print(t.dtype)"
      ],
      "metadata": {
        "colab": {
          "base_uri": "https://localhost:8080/"
        },
        "id": "VZjY2G4CHR7-",
        "outputId": "43511efd-45b5-41d0-fcd6-9bd717eecd24"
      },
      "execution_count": null,
      "outputs": [
        {
          "output_type": "stream",
          "name": "stdout",
          "text": [
            "(2, 3)\n",
            "<dtype: 'int32'>\n"
          ]
        }
      ]
    },
    {
      "cell_type": "code",
      "source": [
        "#indexing\n",
        "t[:,1:]"
      ],
      "metadata": {
        "colab": {
          "base_uri": "https://localhost:8080/"
        },
        "id": "UyDJ4IufH0cd",
        "outputId": "e502f6c4-739e-4ba6-a6b8-2b20ca8c05b8"
      },
      "execution_count": null,
      "outputs": [
        {
          "output_type": "execute_result",
          "data": {
            "text/plain": [
              "<tf.Tensor: shape=(2, 2), dtype=int32, numpy=\n",
              "array([[2, 3],\n",
              "       [5, 6]], dtype=int32)>"
            ]
          },
          "metadata": {},
          "execution_count": 7
        }
      ]
    },
    {
      "cell_type": "code",
      "source": [
        "#\"\"...\" means \"all dimensions prior to\" the specified dimension.\n",
        "t[..., 1, tf.newaxis]"
      ],
      "metadata": {
        "colab": {
          "base_uri": "https://localhost:8080/"
        },
        "id": "Z0Udabe6IFse",
        "outputId": "cca2cf33-d329-45e1-f697-34e7a3c5b3b3"
      },
      "execution_count": null,
      "outputs": [
        {
          "output_type": "execute_result",
          "data": {
            "text/plain": [
              "<tf.Tensor: shape=(2, 1), dtype=int32, numpy=\n",
              "array([[2],\n",
              "       [5]], dtype=int32)>"
            ]
          },
          "metadata": {},
          "execution_count": 8
        }
      ]
    },
    {
      "cell_type": "code",
      "source": [
        "# addition\n",
        "t+10"
      ],
      "metadata": {
        "colab": {
          "base_uri": "https://localhost:8080/"
        },
        "id": "1-BCAnKqIYHH",
        "outputId": "a0f1d7f4-0915-4fa1-af23-4917b341e945"
      },
      "execution_count": null,
      "outputs": [
        {
          "output_type": "execute_result",
          "data": {
            "text/plain": [
              "<tf.Tensor: shape=(2, 3), dtype=int32, numpy=\n",
              "array([[11, 12, 13],\n",
              "       [14, 15, 16]], dtype=int32)>"
            ]
          },
          "metadata": {},
          "execution_count": 9
        }
      ]
    },
    {
      "cell_type": "code",
      "source": [
        "# root\n",
        "tf.square(t)"
      ],
      "metadata": {
        "colab": {
          "base_uri": "https://localhost:8080/"
        },
        "id": "80Yw1F3AI7yk",
        "outputId": "763b31c9-01e2-4ef9-946e-37fe4ae407a4"
      },
      "execution_count": null,
      "outputs": [
        {
          "output_type": "execute_result",
          "data": {
            "text/plain": [
              "<tf.Tensor: shape=(2, 3), dtype=int32, numpy=\n",
              "array([[ 1,  4,  9],\n",
              "       [16, 25, 36]], dtype=int32)>"
            ]
          },
          "metadata": {},
          "execution_count": 10
        }
      ]
    },
    {
      "cell_type": "code",
      "source": [
        "# matrix multiplication (@ ~= tf.matmul())\n",
        "t@tf.transpose(t)"
      ],
      "metadata": {
        "colab": {
          "base_uri": "https://localhost:8080/"
        },
        "id": "EIrM-W06JA1a",
        "outputId": "4a90956a-e60e-4821-a622-cea2d84a0b8f"
      },
      "execution_count": null,
      "outputs": [
        {
          "output_type": "execute_result",
          "data": {
            "text/plain": [
              "<tf.Tensor: shape=(2, 2), dtype=int32, numpy=\n",
              "array([[14, 32],\n",
              "       [32, 77]], dtype=int32)>"
            ]
          },
          "metadata": {},
          "execution_count": 11
        }
      ]
    },
    {
      "cell_type": "markdown",
      "source": [
        "***Custom Loss Functions***"
      ],
      "metadata": {
        "id": "7R7neFBuP3zd"
      }
    },
    {
      "cell_type": "code",
      "source": [
        "def hubber_fun(y_true, y_pred):\n",
        "  error = y_true - y_pred\n",
        "  is_small_error = tf.abs(error) < 1\n",
        "  squred_loss = tf.square(error)/2\n",
        "  linear_loss = tf.abs(error) - 0.5\n",
        "  return tf.where(is_small_error, squred_loss, linear_loss)"
      ],
      "metadata": {
        "id": "4_KL_dhgJK3C"
      },
      "execution_count": null,
      "outputs": []
    },
    {
      "cell_type": "code",
      "source": [
        "# model.compile(loss = hubber_fun, optimizer = 'nadam')\n",
        "# model.fit(X_train, y_train)"
      ],
      "metadata": {
        "id": "vcXEv-jRQ1wn"
      },
      "execution_count": null,
      "outputs": []
    },
    {
      "cell_type": "code",
      "source": [
        ""
      ],
      "metadata": {
        "id": "R3zFiYCpRFZK"
      },
      "execution_count": null,
      "outputs": []
    }
  ]
}